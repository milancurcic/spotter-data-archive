{
 "cells": [
  {
   "cell_type": "markdown",
   "metadata": {
    "pycharm": {
     "name": "#%% md\n"
    }
   },
   "source": [
    "## Plotting Spotter Drift Trajectories\n",
    "This notebook demonstrates plotting the latitude, longitude locations during a\n",
    " specified time period, colored by significant wave height observed.\n",
    "\n",
    "Plotly is used to render the geographic data (continents, etc)."
   ]
  },
  {
   "cell_type": "code",
   "execution_count": 1,
   "metadata": {
    "pycharm": {
     "name": "#%%\n"
    }
   },
   "outputs": [],
   "source": [
    "# Import necessary packages\n",
    "\n",
    "import pandas as pd\n",
    "import plotly.graph_objects as go\n",
    "import xarray as xr\n",
    "import datetime\n",
    "\n",
    "import numpy as np\n"
   ]
  },
  {
   "cell_type": "code",
   "execution_count": 2,
   "metadata": {},
   "outputs": [
    {
     "ename": "ValueError",
     "evalue": "found the following matches with the input file in xarray's IO backends: ['netcdf4', 'h5netcdf', 'scipy']. But their dependencies may not be installed, see:\nhttps://docs.xarray.dev/en/stable/user-guide/io.html \nhttps://docs.xarray.dev/en/stable/getting-started-guide/installing.html",
     "output_type": "error",
     "traceback": [
      "\u001B[0;31m---------------------------------------------------------------------------\u001B[0m",
      "\u001B[0;31mValueError\u001B[0m                                Traceback (most recent call last)",
      "Cell \u001B[0;32mIn[2], line 3\u001B[0m\n\u001B[1;32m      1\u001B[0m \u001B[38;5;66;03m# open the file using xarray\u001B[39;00m\n\u001B[1;32m      2\u001B[0m filename \u001B[38;5;241m=\u001B[39m \u001B[38;5;124m\"\u001B[39m\u001B[38;5;124mspotter_data_bulk.nc\u001B[39m\u001B[38;5;124m\"\u001B[39m\n\u001B[0;32m----> 3\u001B[0m bulk_wave_data  \u001B[38;5;241m=\u001B[39m \u001B[43mxr\u001B[49m\u001B[38;5;241;43m.\u001B[39;49m\u001B[43mload_dataset\u001B[49m\u001B[43m(\u001B[49m\u001B[43mfilename\u001B[49m\u001B[43m)\u001B[49m\n\u001B[1;32m      5\u001B[0m \u001B[38;5;66;03m# print dataset info to see variables and the dimensions (only dimension is the observation index number)\u001B[39;00m\n\u001B[1;32m      6\u001B[0m \u001B[38;5;28mprint\u001B[39m(bulk_wave_data\u001B[38;5;241m.\u001B[39minfo)\n",
      "File \u001B[0;32m~/Documents/GitRepos/spotter-data-archive/.venv/lib/python3.10/site-packages/xarray/backends/api.py:274\u001B[0m, in \u001B[0;36mload_dataset\u001B[0;34m(filename_or_obj, **kwargs)\u001B[0m\n\u001B[1;32m    271\u001B[0m \u001B[38;5;28;01mif\u001B[39;00m \u001B[38;5;124m\"\u001B[39m\u001B[38;5;124mcache\u001B[39m\u001B[38;5;124m\"\u001B[39m \u001B[38;5;129;01min\u001B[39;00m kwargs:\n\u001B[1;32m    272\u001B[0m     \u001B[38;5;28;01mraise\u001B[39;00m \u001B[38;5;167;01mTypeError\u001B[39;00m(\u001B[38;5;124m\"\u001B[39m\u001B[38;5;124mcache has no effect in this context\u001B[39m\u001B[38;5;124m\"\u001B[39m)\n\u001B[0;32m--> 274\u001B[0m \u001B[38;5;28;01mwith\u001B[39;00m \u001B[43mopen_dataset\u001B[49m\u001B[43m(\u001B[49m\u001B[43mfilename_or_obj\u001B[49m\u001B[43m,\u001B[49m\u001B[43m \u001B[49m\u001B[38;5;241;43m*\u001B[39;49m\u001B[38;5;241;43m*\u001B[39;49m\u001B[43mkwargs\u001B[49m\u001B[43m)\u001B[49m \u001B[38;5;28;01mas\u001B[39;00m ds:\n\u001B[1;32m    275\u001B[0m     \u001B[38;5;28;01mreturn\u001B[39;00m ds\u001B[38;5;241m.\u001B[39mload()\n",
      "File \u001B[0;32m~/Documents/GitRepos/spotter-data-archive/.venv/lib/python3.10/site-packages/xarray/backends/api.py:547\u001B[0m, in \u001B[0;36mopen_dataset\u001B[0;34m(filename_or_obj, engine, chunks, cache, decode_cf, mask_and_scale, decode_times, decode_timedelta, use_cftime, concat_characters, decode_coords, drop_variables, inline_array, chunked_array_type, from_array_kwargs, backend_kwargs, **kwargs)\u001B[0m\n\u001B[1;32m    544\u001B[0m     kwargs\u001B[38;5;241m.\u001B[39mupdate(backend_kwargs)\n\u001B[1;32m    546\u001B[0m \u001B[38;5;28;01mif\u001B[39;00m engine \u001B[38;5;129;01mis\u001B[39;00m \u001B[38;5;28;01mNone\u001B[39;00m:\n\u001B[0;32m--> 547\u001B[0m     engine \u001B[38;5;241m=\u001B[39m \u001B[43mplugins\u001B[49m\u001B[38;5;241;43m.\u001B[39;49m\u001B[43mguess_engine\u001B[49m\u001B[43m(\u001B[49m\u001B[43mfilename_or_obj\u001B[49m\u001B[43m)\u001B[49m\n\u001B[1;32m    549\u001B[0m \u001B[38;5;28;01mif\u001B[39;00m from_array_kwargs \u001B[38;5;129;01mis\u001B[39;00m \u001B[38;5;28;01mNone\u001B[39;00m:\n\u001B[1;32m    550\u001B[0m     from_array_kwargs \u001B[38;5;241m=\u001B[39m {}\n",
      "File \u001B[0;32m~/Documents/GitRepos/spotter-data-archive/.venv/lib/python3.10/site-packages/xarray/backends/plugins.py:197\u001B[0m, in \u001B[0;36mguess_engine\u001B[0;34m(store_spec)\u001B[0m\n\u001B[1;32m    189\u001B[0m \u001B[38;5;28;01melse\u001B[39;00m:\n\u001B[1;32m    190\u001B[0m     error_msg \u001B[38;5;241m=\u001B[39m (\n\u001B[1;32m    191\u001B[0m         \u001B[38;5;124m\"\u001B[39m\u001B[38;5;124mfound the following matches with the input file in xarray\u001B[39m\u001B[38;5;124m'\u001B[39m\u001B[38;5;124ms IO \u001B[39m\u001B[38;5;124m\"\u001B[39m\n\u001B[1;32m    192\u001B[0m         \u001B[38;5;124mf\u001B[39m\u001B[38;5;124m\"\u001B[39m\u001B[38;5;124mbackends: \u001B[39m\u001B[38;5;132;01m{\u001B[39;00mcompatible_engines\u001B[38;5;132;01m}\u001B[39;00m\u001B[38;5;124m. But their dependencies may not be installed, see:\u001B[39m\u001B[38;5;130;01m\\n\u001B[39;00m\u001B[38;5;124m\"\u001B[39m\n\u001B[1;32m    193\u001B[0m         \u001B[38;5;124m\"\u001B[39m\u001B[38;5;124mhttps://docs.xarray.dev/en/stable/user-guide/io.html \u001B[39m\u001B[38;5;130;01m\\n\u001B[39;00m\u001B[38;5;124m\"\u001B[39m\n\u001B[1;32m    194\u001B[0m         \u001B[38;5;124m\"\u001B[39m\u001B[38;5;124mhttps://docs.xarray.dev/en/stable/getting-started-guide/installing.html\u001B[39m\u001B[38;5;124m\"\u001B[39m\n\u001B[1;32m    195\u001B[0m     )\n\u001B[0;32m--> 197\u001B[0m \u001B[38;5;28;01mraise\u001B[39;00m \u001B[38;5;167;01mValueError\u001B[39;00m(error_msg)\n",
      "\u001B[0;31mValueError\u001B[0m: found the following matches with the input file in xarray's IO backends: ['netcdf4', 'h5netcdf', 'scipy']. But their dependencies may not be installed, see:\nhttps://docs.xarray.dev/en/stable/user-guide/io.html \nhttps://docs.xarray.dev/en/stable/getting-started-guide/installing.html"
     ]
    }
   ],
   "source": [
    "# open the file using xarray\n",
    "filename = \"spotter_data_bulk.nc\"\n",
    "bulk_wave_data  = xr.load_dataset(filename)\n",
    "\n",
    "# print dataset info to see variables and the dimensions (only dimension is the observation index number)\n",
    "print(bulk_wave_data.info)\n"
   ]
  },
  {
   "cell_type": "code",
   "execution_count": null,
   "metadata": {
    "pycharm": {
     "name": "#%%\n"
    }
   },
   "outputs": [],
   "source": [
    "bulk_wave_dataframe = bulk_wave_data.to_dataframe()\n",
    "\n",
    "# convert epoch time to datetime (easier for comparing dates)\n",
    "bulk_wave_dataframe['timestamp'] = pd.to_datetime(bulk_wave_dataframe['time'], unit=\"s\", utc=True)\n",
    "\n",
    "# select time range of interest\n",
    "# start_date = datetime.datetime(year=2022, month=5, day=25, hour=0, tzinfo=datetime.timezone.utc)\n",
    "# end_date = datetime.datetime(year=2022, month=6, day=1, hour=0, tzinfo=datetime.timezone.utc)\n",
    "\n",
    "# bulk_wave_dataframe = bulk_wave_dataframe.loc[(bulk_wave_dataframe[\"timestamp\"] > start_date) &\n",
    "#                                               (bulk_wave_dataframe[\"timestamp\"] < end_date)]\n",
    "\n",
    "# print(len(bulk_wave_dataframe))"
   ]
  },
  {
   "cell_type": "markdown",
   "metadata": {},
   "source": [
    "Plot last data point from every Spotter reported, and color by waveheight."
   ]
  },
  {
   "cell_type": "code",
   "execution_count": null,
   "metadata": {
    "pycharm": {
     "name": "#%%\n"
    }
   },
   "outputs": [],
   "source": [
    "\n",
    "fig = go.Figure()\n",
    "wave_min = 0  # m\n",
    "wave_max = 8  # m\n",
    "fig.add_trace(\n",
    "    go.Scattergeo(\n",
    "        lon=bulk_wave_dataframe[\"longitude\"],\n",
    "        lat=bulk_wave_dataframe[\"latitude\"],\n",
    "        marker=dict(\n",
    "            color=bulk_wave_dataframe[\"significantWaveHeight\"],\n",
    "            size=10,\n",
    "            colorscale=\"Spectral_r\",\n",
    "            cmin=wave_min,\n",
    "            cmax=wave_max,\n",
    "            colorbar={\"title\": \"Observed Significant Wave Height [m]\"},\n",
    "            line=dict(width=1, color=\"DarkSlateGrey\"),\n",
    "        ),\n",
    "        mode=\"markers\",\n",
    "        name=\"Spotter Observation\",\n",
    "    )\n",
    ")\n",
    "\n",
    "fig.update_geos(\n",
    "    showcoastlines=False,\n",
    "    coastlinecolor=\"Black\",\n",
    "    showland=True,\n",
    "    landcolor=\"gray\",  # \"#FFF3DE\",\n",
    "    showocean=True,\n",
    "    oceancolor=\"white\",\n",
    "    showlakes=False,\n",
    "    lataxis_range=[-70, 70],\n",
    "    lonaxis_range=[-180, 180],\n",
    ")\n",
    "\n",
    "fig.update_layout(\n",
    "    title=f\"Spotter observations from {start_date} to {end_date}\",\n",
    "    xaxis_title=\"Longitude\",\n",
    "    yaxis_title=\"Latitude\",\n",
    "    width=1200,\n",
    "    height=600,\n",
    "    showlegend=False,\n",
    ")\n",
    "\n",
    "fig.show()\n",
    "# png_filename = (\n",
    "#     f\"{output_directory}/{title}_obs_v_wave_plot{suffix}.png\"\n",
    "# )\n",
    "# fig.write_image(png_filename, scale=2)"
   ]
  },
  {
   "cell_type": "code",
   "execution_count": null,
   "metadata": {
    "pycharm": {
     "name": "#%%\n"
    }
   },
   "outputs": [],
   "source": [
    "# set color thresholds\n",
    "wave_min = 0  # m\n",
    "wave_max = 8  # m\n",
    "\n",
    "\n",
    "# Create figure\n",
    "fig = go.Figure()\n",
    "\n",
    "all_times = []\n",
    "# Add traces, one for each slider step\n",
    "for rounded_time, df_segmented in bulk_wave_dataframe.groupby(\"rounded_time\"):\n",
    "    all_times.append(rounded_time)\n",
    "\n",
    "    # make labels\n",
    "    marker_labels = df_segmented[\"spotter_id\"] + \", Hs=\" + df_segmented[\"significantWaveHeight\"].round(decimals=1).astype(str) + \" m\"\n",
    "\n",
    "    fig.add_trace(\n",
    "        go.Scattergeo(\n",
    "            visible=False,\n",
    "            lon=df_segmented[\"longitude\"],\n",
    "            lat=df_segmented[\"latitude\"],\n",
    "            marker=dict(\n",
    "                color=df_segmented[\"significantWaveHeight\"],\n",
    "                colorscale=\"Spectral_r\",\n",
    "                size=10,\n",
    "                cmin=wave_min,\n",
    "                cmax=wave_max,\n",
    "                colorbar={\"title\": \"Observed Hs [m]\"},\n",
    "                line=dict(width=1, color=\"DarkSlateGrey\"),\n",
    "            ),\n",
    "        text = marker_labels,\n",
    "        hoverinfo = 'text'))\n",
    "\n",
    "    fig.update_geos(\n",
    "        landcolor=\"#2B3746\",\n",
    "        lataxis_range=[-70, 70],\n",
    "        lonaxis_range=[-180, 180],\n",
    "    )\n",
    "\n",
    "\n",
    "\n",
    "# Make 10th trace visible\n",
    "fig.data[10].visible = True\n",
    "\n",
    "# Create and add slider\n",
    "steps = []\n",
    "for i in range(len(fig.data)):\n",
    "    step = dict(\n",
    "        method=\"update\",\n",
    "        args=[{\"visible\": [False] * len(fig.data)},\n",
    "              {\"title\": f\"Spotters on {all_times[i]}\"}],  # layout attribute\n",
    "    )\n",
    "    step[\"args\"][0][\"visible\"][i] = True  # Toggle i'th trace to \"visible\"\n",
    "    steps.append(step)\n",
    "\n",
    "sliders = [dict(\n",
    "    active=10,\n",
    "    currentvalue={\"suffix\": f\"{all_times[i]}\"},\n",
    "    pad={\"t\": 50},\n",
    "    steps=steps\n",
    ")]\n",
    "\n",
    "fig.update_layout(\n",
    "    sliders=sliders\n",
    ")\n",
    "\n",
    "fig.show()\n"
   ]
  },
  {
   "cell_type": "code",
   "execution_count": null,
   "outputs": [],
   "source": [],
   "metadata": {
    "collapsed": false,
    "pycharm": {
     "name": "#%%\n"
    }
   }
  }
 ],
 "metadata": {
  "kernelspec": {
   "display_name": "Python 3",
   "language": "python",
   "name": "python3"
  },
  "language_info": {
   "codemirror_mode": {
    "name": "ipython",
    "version": 3
   },
   "file_extension": ".py",
   "mimetype": "text/x-python",
   "name": "python",
   "nbconvert_exporter": "python",
   "pygments_lexer": "ipython3",
   "version": "3.7.9"
  }
 },
 "nbformat": 4,
 "nbformat_minor": 1
}
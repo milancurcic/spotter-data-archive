{
 "cells": [
  {
   "cell_type": "markdown",
   "metadata": {
    "pycharm": {
     "name": "#%% md\n"
    }
   },
   "source": [
    "## Plotting Spotter Drift Trajectories\n",
    "This notebook demonstrates plotting the latitude, longitude locations during a\n",
    " specified time period, colored by significant wave height observed.\n",
    "\n",
    "Plotly is used to render the geographic data (continents, etc)."
   ]
  },
  {
   "cell_type": "code",
   "execution_count": null,
   "metadata": {
    "pycharm": {
     "is_executing": true,
     "name": "#%%\n"
    }
   },
   "outputs": [],
   "source": [
    "# Import necessary packages\n",
    "\n",
    "import pandas as pd\n",
    "import plotly.graph_objects as go\n",
    "import xarray as xr\n",
    "import datetime\n",
    "\n",
    "import numpy as np\n",
    "\n",
    "import s3fs\n"
   ]
  },
  {
   "cell_type": "code",
   "execution_count": null,
   "metadata": {},
   "outputs": [],
   "source": [
    "# # open the file using xarray\n",
    "# filename = \"spotter_data_bulk.nc\"\n",
    "# bulk_wave_data  = xr.load_dataset(filename)\n",
    "#\n",
    "# # print dataset info to see variables and the dimensions (only dimension is the observation index number)\n",
    "# print(bulk_wave_data.info)\n",
    "\n",
    "# s3_uri = \"noaa-oar-hourly-gdp-pds/latest/gdp_v2.00.zarr\"\n",
    "s3_uri = \"s3://sofar-wx-data-dev-os1/zarr/spotter_data_bulk/\"\n",
    "\n",
    "s3 = s3fs.S3FileSystem()\n",
    "store = s3fs.S3Map(root=s3_uri, s3=s3, check=False)\n",
    "bulk_wave_data = xr.open_zarr(store=store, consolidated=True)\n"
   ]
  },
  {
   "cell_type": "code",
   "execution_count": null,
   "metadata": {
    "pycharm": {
     "name": "#%%\n"
    }
   },
   "outputs": [],
   "source": [
    "bulk_wave_dataframe = bulk_wave_data.to_dataframe()\n",
    "\n",
    "# convert epoch time to datetime (easier for comparing dates)\n",
    "bulk_wave_dataframe['timestamp'] = pd.to_datetime(bulk_wave_dataframe['time'], unit=\"s\", utc=True)\n",
    "\n",
    "# select time range of interest\n",
    "# start_date = datetime.datetime(year=2022, month=5, day=25, hour=0, tzinfo=datetime.timezone.utc)\n",
    "# end_date = datetime.datetime(year=2022, month=6, day=1, hour=0, tzinfo=datetime.timezone.utc)\n",
    "\n",
    "# bulk_wave_dataframe = bulk_wave_dataframe.loc[(bulk_wave_dataframe[\"timestamp\"] > start_date) &\n",
    "#                                               (bulk_wave_dataframe[\"timestamp\"] < end_date)]\n",
    "\n",
    "# print(len(bulk_wave_dataframe))"
   ]
  },
  {
   "cell_type": "markdown",
   "metadata": {},
   "source": [
    "Plot last data point from every Spotter reported, and color by waveheight."
   ]
  },
  {
   "cell_type": "code",
   "execution_count": null,
   "metadata": {
    "pycharm": {
     "name": "#%%\n"
    }
   },
   "outputs": [],
   "source": [
    "# Select last data available for each Spotter ID\n",
    "last_data = bulk_wave_dataframe.drop_duplicates(subset=\"spotter_id\", keep=\"last\")\n",
    "\n",
    "\n",
    "# set color thresholds\n",
    "wave_min = 0  # m\n",
    "wave_max = 8  # m\n",
    "\n",
    "# make labels\n",
    "marker_labels = last_data[\"spotter_id\"] + \", Hs=\" + last_data[\"significantWaveHeight\"].round(decimals=1).astype(str) + \" m\"\n",
    "\n",
    "# Use Plotly to visualize data\n",
    "fig = go.Figure()\n",
    "fig.add_trace(\n",
    "    go.Scattergeo(\n",
    "        lon=last_data[\"longitude\"],\n",
    "        lat=last_data[\"latitude\"],\n",
    "        marker=dict(\n",
    "            color=last_data[\"significantWaveHeight\"],\n",
    "            colorscale=\"Spectral_r\",\n",
    "            size=10,\n",
    "            cmin=wave_min,\n",
    "            cmax=wave_max,\n",
    "            colorbar={\"title\": \"Observed Hs [m]\"},\n",
    "            line=dict(width=1, color=\"DarkSlateGrey\"),\n",
    "        ),\n",
    "    text = marker_labels,\n",
    "    hoverinfo = 'text'))\n",
    "\n",
    "fig.update_geos(\n",
    "    landcolor=\"#2B3746\",\n",
    "    lataxis_range=[-70, 70],\n",
    "    lonaxis_range=[-180, 180],\n",
    ")\n",
    "\n",
    "fig.update_layout(title=f\"Last Spotter observations\")\n",
    "fig.show()"
   ]
  },
  {
   "cell_type": "code",
   "execution_count": null,
   "metadata": {
    "pycharm": {
     "name": "#%%\n"
    }
   },
   "outputs": [],
   "source": [
    "bulk_wave_dataframe['rounded_time'] = bulk_wave_dataframe.timestamp.round(\"H\")\n",
    "\n",
    "# set color thresholds\n",
    "wave_min = 0  # m\n",
    "wave_max = 8  # m\n",
    "\n",
    "\n",
    "# Create figure\n",
    "fig = go.Figure()\n",
    "\n",
    "all_times = []\n",
    "# Add traces, one for each slider step\n",
    "for rounded_time, df_segmented in bulk_wave_dataframe.groupby(\"rounded_time\"):\n",
    "    all_times.append(rounded_time)\n",
    "\n",
    "    # make labels\n",
    "    marker_labels = df_segmented[\"spotter_id\"] + \", Hs=\" + df_segmented[\"significantWaveHeight\"].round(decimals=1).astype(str) + \" m\"\n",
    "\n",
    "    fig.add_trace(\n",
    "        go.Scattergeo(\n",
    "            visible=False,\n",
    "            lon=df_segmented[\"longitude\"],\n",
    "            lat=df_segmented[\"latitude\"],\n",
    "            marker=dict(\n",
    "                color=df_segmented[\"significantWaveHeight\"],\n",
    "                colorscale=\"Spectral_r\",\n",
    "                size=10,\n",
    "                cmin=wave_min,\n",
    "                cmax=wave_max,\n",
    "                colorbar={\"title\": \"Observed Hs [m]\"},\n",
    "                line=dict(width=1, color=\"DarkSlateGrey\"),\n",
    "            ),\n",
    "        text = marker_labels,\n",
    "        hoverinfo = 'text'))\n",
    "\n",
    "    fig.update_geos(\n",
    "        landcolor=\"#2B3746\",\n",
    "        lataxis_range=[-70, 70],\n",
    "        lonaxis_range=[-180, 180],\n",
    "    )\n",
    "\n",
    "\n",
    "\n",
    "# Make 10th trace visible\n",
    "fig.data[10].visible = True\n",
    "\n",
    "# Create and add slider\n",
    "steps = []\n",
    "for i in range(len(fig.data)):\n",
    "    step = dict(\n",
    "        method=\"update\",\n",
    "        args=[{\"visible\": [False] * len(fig.data)},\n",
    "              {\"title\": f\"Spotters on {all_times[i]}\"}],  # layout attribute\n",
    "    )\n",
    "    step[\"args\"][0][\"visible\"][i] = True  # Toggle i'th trace to \"visible\"\n",
    "    steps.append(step)\n",
    "\n",
    "sliders = [dict(\n",
    "    active=10,\n",
    "    currentvalue={\"suffix\": f\"{all_times[i]}\"},\n",
    "    pad={\"t\": 50},\n",
    "    steps=steps\n",
    ")]\n",
    "\n",
    "fig.update_layout(\n",
    "    sliders=sliders\n",
    ")\n",
    "\n",
    "fig.show()\n"
   ]
  },
  {
   "cell_type": "code",
   "execution_count": null,
   "metadata": {
    "pycharm": {
     "name": "#%%\n"
    }
   },
   "outputs": [],
   "source": []
  }
 ],
 "metadata": {
  "kernelspec": {
   "display_name": "Python 3",
   "language": "python",
   "name": "python3"
  },
  "language_info": {
   "codemirror_mode": {
    "name": "ipython",
    "version": 3
   },
   "file_extension": ".py",
   "mimetype": "text/x-python",
   "name": "python",
   "nbconvert_exporter": "python",
   "pygments_lexer": "ipython3",
   "version": "3.7.9"
  }
 },
 "nbformat": 4,
 "nbformat_minor": 1
}
